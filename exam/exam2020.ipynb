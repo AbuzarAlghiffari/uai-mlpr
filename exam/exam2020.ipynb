{
 "cells": [
  {
   "cell_type": "markdown",
   "metadata": {},
   "source": [
    "# Pengenalan Pola\n",
    "\n",
    "## Ujian Tengah Semester\n",
    "\n",
    "### Mekanisme\n",
    "\n",
    "Anda hanya diwajibkan untuk mengumpulkan file ini saja ke uploader yang disediakan di https://elearning.uai.ac.id/. Ganti nama file ini saat pengumpulan menjadi **uts_NIM.ipynb**.\n",
    "\n",
    "**Keterlambatan**: Pengumpulan tugas yang melebihi tenggat yang telah ditentukan tidak akan diterima. Keterlambatan akan berakibat pada nilai nol untuk ujian ini.\n",
    "\n",
    "**Kolaborasi**: Anda tidak diperbolehkan untuk berdiskusi dengan teman Anda. Dilarang keras menyalin kode maupun tulisan dari teman Anda. Kecurangan akan berakibat pada nilai nol untuk ujian ini.\n",
    "\n",
    "### Petunjuk\n",
    "\n",
    "Untuk kelancaran Anda, gunakan Python 3 dalam tugas ini. Selain itu, terdapat beberapa _packages_ yang Anda akan gunakan dalam mengerjakan tugas ini, yaitu:\n",
    "\n",
    "- matplotlib\n",
    "- numpy\n",
    "- pandas\n",
    "- scikit-learn\n",
    "- scipy\n",
    "- seaborn\n",
    "\n",
    "Anda diperbolehkan (jika dirasa perlu) untuk mengimpor modul tambahan untuk tugas ini. Namun, seharusnya modul yang tersedia sudah cukup untuk memenuhi kebutuhan Anda. Untuk kode yang Anda ambil dari sumber lain, **cantumkan URL menuju referensi tersebut jika diambil dari internet**!\n",
    "\n",
    "Perhatikan poin untuk tiap soal! **Semakin kecil poinnya, berarti kode yang diperlukan untuk menjawab soal tersebut seharusnya semakin sedikit!**"
   ]
  },
  {
   "cell_type": "markdown",
   "metadata": {},
   "source": [
    "## Sumber Data\n",
    "\n",
    "https://www.kaggle.com/geomack/spotifyclassification#data.csv\n",
    "\n",
    "Deskripsi data: https://developer.spotify.com/documentation/web-api/reference/tracks/get-audio-features/"
   ]
  },
  {
   "cell_type": "code",
   "execution_count": null,
   "metadata": {},
   "outputs": [],
   "source": [
    "import matplotlib.pyplot as plt\n",
    "import numpy as np\n",
    "import pandas as pd\n",
    "import seaborn as sns\n",
    "%matplotlib inline\n",
    "\n",
    "RANDOM_STATE = 1337\n",
    "np.random.seed(RANDOM_STATE)"
   ]
  },
  {
   "cell_type": "code",
   "execution_count": null,
   "metadata": {},
   "outputs": [],
   "source": [
    "df = pd.read_csv('../datasets/spotify.csv', index_col=0)"
   ]
  },
  {
   "cell_type": "markdown",
   "metadata": {},
   "source": [
    "## 1. Eksplorasi Awal Data (20 poin)"
   ]
  },
  {
   "cell_type": "markdown",
   "metadata": {},
   "source": [
    "### Soal 1.1 (2 poin)\n",
    "\n",
    "Bagi dataset di atas menjadi data latih dan data uji, i.e. `X_train`, `X_test`, `y_train`, `y_test` dengan proporsi 70:30."
   ]
  },
  {
   "cell_type": "code",
   "execution_count": null,
   "metadata": {},
   "outputs": [],
   "source": [
    "from sklearn.model_selection import train_test_split\n",
    "\n",
    "# Kode Anda di sini"
   ]
  },
  {
   "cell_type": "markdown",
   "metadata": {},
   "source": [
    "### Soal 1.2 (1 poin)\n",
    "\n",
    "Buatlah variabel `columns` berupa list yang berisi semua kolom dengan tipe data numerik dalam data, kecuali `target`."
   ]
  },
  {
   "cell_type": "code",
   "execution_count": null,
   "metadata": {},
   "outputs": [],
   "source": [
    "# Kode Anda di sini"
   ]
  },
  {
   "cell_type": "markdown",
   "metadata": {},
   "source": [
    "### Soal 1.3 (2 poin)\n",
    "\n",
    "Gambarkan heatmap dari korelasi semua variabel numerik dalam data `X_train`."
   ]
  },
  {
   "cell_type": "code",
   "execution_count": null,
   "metadata": {},
   "outputs": [],
   "source": [
    "# Kode Anda di sini"
   ]
  },
  {
   "cell_type": "markdown",
   "metadata": {},
   "source": [
    "### Soal 1.4 (2 poin)\n",
    "\n",
    "Ada berapa banyak `artist` yang unik dalam `X_train` dan `X_test`?"
   ]
  },
  {
   "cell_type": "code",
   "execution_count": null,
   "metadata": {},
   "outputs": [],
   "source": [
    "# Kode Anda di sini"
   ]
  },
  {
   "cell_type": "markdown",
   "metadata": {},
   "source": [
    "### Soal 1.5.a (2 poin)\n",
    "\n",
    "Ubahlah kolom `duration_ms` dalam `X_train` dan `X_test` menjadi `duration_mins` yang berisi durasi lagu dalam menit."
   ]
  },
  {
   "cell_type": "code",
   "execution_count": null,
   "metadata": {},
   "outputs": [],
   "source": [
    "# Kode Anda di sini"
   ]
  },
  {
   "cell_type": "markdown",
   "metadata": {},
   "source": [
    "### Soal 1.5.b (2 poin)\n",
    "\n",
    "Gambarkan histogram dari kolom `duration_mins` di `X_train`."
   ]
  },
  {
   "cell_type": "code",
   "execution_count": null,
   "metadata": {},
   "outputs": [],
   "source": [
    "# Kode Anda di sini"
   ]
  },
  {
   "cell_type": "markdown",
   "metadata": {},
   "source": [
    "### Soal 1.6 (4 poin)\n",
    "\n",
    "Gambarkan histogram dari semua variabel yang ada dalam variabel `columns`."
   ]
  },
  {
   "cell_type": "code",
   "execution_count": null,
   "metadata": {},
   "outputs": [],
   "source": [
    "# Kode Anda di sini"
   ]
  },
  {
   "cell_type": "markdown",
   "metadata": {},
   "source": [
    "### Soal 1.7 (5 poin)\n",
    "\n",
    "Lakukan eksplorasi tambahan sesuai yang Anda butuhkan. Apa yang dapat Anda simpulkan sejauh ini?"
   ]
  },
  {
   "cell_type": "code",
   "execution_count": null,
   "metadata": {},
   "outputs": [],
   "source": [
    "# Kode Anda di sini"
   ]
  },
  {
   "cell_type": "markdown",
   "metadata": {},
   "source": [
    "*Jawaban Anda di sini*"
   ]
  },
  {
   "cell_type": "markdown",
   "metadata": {},
   "source": [
    "## 2. Model Selection (20 poin)\n",
    "\n",
    "Kita akan mencoba menghitung likelihood dari salah satu atribut dalam data. Asumsikan bahwa kita punya dua hipotesis mengenai distribusi `speechiness`.\n",
    "\n",
    "- $\\mathcal{M} = 1$ - dari distribusi Gaussian, i.e. $\\text{speechiness} \\sim \\mathcal{N}(\\mu, \\sigma^2)$\n",
    "- $\\mathcal{M} = 2$ - dari distribusi eksponensial, i.e. $\\text{speechiness} \\sim \\text{Exp}(\\lambda)$"
   ]
  },
  {
   "cell_type": "markdown",
   "metadata": {},
   "source": [
    "### Soal 2.1 (4 poin)\n",
    "\n",
    "Berapa nilai MLE dari parameter $\\mathcal{M}_1$ dan $\\mathcal{M}_2$?"
   ]
  },
  {
   "cell_type": "code",
   "execution_count": null,
   "metadata": {},
   "outputs": [],
   "source": [
    "from scipy.stats import norm, expon\n",
    "\n",
    "# Kode Anda di sini"
   ]
  },
  {
   "cell_type": "markdown",
   "metadata": {},
   "source": [
    "### Soal 2.2 (4 poin)\n",
    "\n",
    "Tuliskan rumus PDF dari $\\mathcal{M}_1$ dan $\\mathcal{M}_2$.\n",
    "\n",
    "*Petunjuk: Gunakan [situs ini](https://www.codecogs.com/latex/eqneditor.php) untuk membantu menulis persamaan dalam LaTeX.*"
   ]
  },
  {
   "cell_type": "markdown",
   "metadata": {},
   "source": [
    "*Jawaban Anda di sini*"
   ]
  },
  {
   "cell_type": "markdown",
   "metadata": {},
   "source": [
    "### Soal 2.3.a (4 poin)\n",
    "\n",
    "Untuk membandingkan kedua model, hitunglah **log-likelihood**-nya. Ingat bahwa *log-likelihood* didefinisikan sebagai\n",
    "\n",
    "$$\n",
    "\\mathcal{L}(\\mathcal{M}) = \\sum_{i=1}^N \\log p(x_i|\\mathcal{M})\n",
    "$$"
   ]
  },
  {
   "cell_type": "code",
   "execution_count": null,
   "metadata": {},
   "outputs": [],
   "source": [
    "from IPython.display import display, HTML\n",
    "\n",
    "x = df['speechiness']\n",
    "\n",
    "ll1 = # Kode Anda di sini\n",
    "\n",
    "display(HTML(\n",
    "    '$\\mathcal{L}(\\mathcal{M}_1) = %.2f$' % ll1\n",
    "))\n",
    "\n",
    "ll2 = # Kode Anda di sini\n",
    "\n",
    "display(HTML(\n",
    "    '$\\mathcal{L}(\\mathcal{M}_2) = %.2f$' % ll2\n",
    "))"
   ]
  },
  {
   "cell_type": "markdown",
   "metadata": {},
   "source": [
    "### Soal 2.3.b (3 poin)\n",
    "\n",
    "Berdasarkan kedua perhitungan pada soal 2.3.a, model mana yang lebih cocok menggambarkan data?\n",
    "\n",
    "*Petunjuk: Ubah terlebih dahulu [Bayes factor](https://en.wikipedia.org/wiki/Bayes_factor) agar mengandung bentuk log-likelihood. Lalu interpretasi hasilnya.*"
   ]
  },
  {
   "cell_type": "markdown",
   "metadata": {},
   "source": [
    "*Jawaban Anda di sini*"
   ]
  },
  {
   "cell_type": "markdown",
   "metadata": {},
   "source": [
    "### Soal 2.4.a (2 poin)\n",
    "\n",
    "Jika $X \\sim Cat(\\pi)$, tuliskan rumus *maximum likelihood estimation* untuk [categorical distribution](https://en.wikipedia.org/wiki/Categorical_distribution) tersebut.\n",
    "\n",
    "*Petunjuk: Anda mungkin membutuhkan notasi seperti [Kronecker delta](https://en.wikipedia.org/wiki/Kronecker_delta).*"
   ]
  },
  {
   "cell_type": "markdown",
   "metadata": {},
   "source": [
    "*Jawaban Anda di sini*"
   ]
  },
  {
   "cell_type": "markdown",
   "metadata": {},
   "source": [
    "### Soal 2.4.b (2 poin)\n",
    "\n",
    "Jika kita asumsikan variabel `key` mengikuti [categorical distribution](https://en.wikipedia.org/wiki/Categorical_distribution), berapa nilai *maximum likelihood estimation* dari parameternya?"
   ]
  },
  {
   "cell_type": "code",
   "execution_count": null,
   "metadata": {},
   "outputs": [],
   "source": [
    "# Kode Anda di sini"
   ]
  },
  {
   "cell_type": "markdown",
   "metadata": {},
   "source": [
    "### Soal 2.4.c (1 poin)\n",
    "\n",
    "Jika $X \\sim Bin(n, \\theta)$ menggambarkan $n$ percobaan Bernoulli dengan probabilitas kesukesan $\\theta$ atau $Ber(\\theta)$, apa nama distribusi untuk $n$ percobaan yang mengikuti categorical distribution?"
   ]
  },
  {
   "cell_type": "markdown",
   "metadata": {},
   "source": [
    "*Jawaban Anda di sini*"
   ]
  },
  {
   "cell_type": "markdown",
   "metadata": {},
   "source": [
    "## 3. Naive Bayes (20 poin)\n",
    "\n",
    "Untuk bagian ini, setiap perhitungan soal dilakukan menggunakan `X_train`, bukan `df`."
   ]
  },
  {
   "cell_type": "markdown",
   "metadata": {},
   "source": [
    "### Soal 3.1.a (4 poin)\n",
    "\n",
    "Hitunglah nilai _mean_ dari kolom `energy` dan `loudness` jika diberikan kelasnya."
   ]
  },
  {
   "cell_type": "code",
   "execution_count": null,
   "metadata": {},
   "outputs": [],
   "source": [
    "# Kode Anda di sini"
   ]
  },
  {
   "cell_type": "markdown",
   "metadata": {},
   "source": [
    "### Soal 3.1.b (4 poin)\n",
    "\n",
    "Hitunglah nilai _covariance matrix_ dari `energy` dan `loudness` jika diberikan kelasnya."
   ]
  },
  {
   "cell_type": "code",
   "execution_count": null,
   "metadata": {},
   "outputs": [],
   "source": [
    "# Kode Anda di sini"
   ]
  },
  {
   "cell_type": "markdown",
   "metadata": {},
   "source": [
    "### Soal 3.1.c (4 poin)\n",
    "\n",
    "Gambarkan _contour plot_ dari `energy` dan `loudness` menggunakan asumsi distribusi multivariat Gaussian."
   ]
  },
  {
   "cell_type": "code",
   "execution_count": null,
   "metadata": {},
   "outputs": [],
   "source": [
    "from scipy.stats import multivariate_normal as mvn\n",
    "\n",
    "# Kode Anda di sini"
   ]
  },
  {
   "cell_type": "markdown",
   "metadata": {},
   "source": [
    "### Soal 3.1.d (2 poin)\n",
    "\n",
    "Jika Anda menggunakan asumsi naif pada Naive Bayes, seperti apa contour plot yang akan dihasilkan? Gambarkan!"
   ]
  },
  {
   "cell_type": "code",
   "execution_count": null,
   "metadata": {},
   "outputs": [],
   "source": [
    "# Kode Anda di sini"
   ]
  },
  {
   "cell_type": "markdown",
   "metadata": {},
   "source": [
    "### Soal 3.2.a (2 poin)\n",
    "\n",
    "Terapkan PCA dengan parameter `n_components=None` pada data Anda sebelum melakukan klasifikasi dengan `GaussianNB`. Prediksi nilai dari `X_test`."
   ]
  },
  {
   "cell_type": "code",
   "execution_count": null,
   "metadata": {},
   "outputs": [],
   "source": [
    "from sklearn.decomposition import PCA\n",
    "from sklearn.metrics import accuracy_score\n",
    "from sklearn.naive_bayes import GaussianNB\n",
    "\n",
    "# Kode Anda di sini\n",
    "print('Acc: {:.2%}'.format(\n",
    "    # Kode Anda di sini\n",
    "))"
   ]
  },
  {
   "cell_type": "markdown",
   "metadata": {},
   "source": [
    "### Soal 3.2.b (4 poin)\n",
    "\n",
    "Lakukan hal yang sama seperti pada soal 3.2.a, tapi kali ini terapkan `StandardScaler` sebelum melakukan PCA. Apa yang dapat Anda amati pada akurasi dari modelnya? Mengapa hal ini terjadi?\n",
    "\n",
    "*Petunjuk: Perhatikan perubahan dari scree plot sebelum dan setelah penggunaan `StandardScaler`.*"
   ]
  },
  {
   "cell_type": "code",
   "execution_count": null,
   "metadata": {},
   "outputs": [],
   "source": [
    "from sklearn.preprocessing import StandardScaler\n",
    "\n",
    "# Kode Anda di sini\n",
    "print('Acc: {:.2%}'.format(\n",
    "    # Kode Anda di sini\n",
    "))"
   ]
  },
  {
   "cell_type": "markdown",
   "metadata": {},
   "source": [
    "*Tuliskan alasan Anda di sini.*"
   ]
  }
 ],
 "metadata": {
  "kernelspec": {
   "display_name": "Python 3",
   "language": "python",
   "name": "python3"
  },
  "language_info": {
   "codemirror_mode": {
    "name": "ipython",
    "version": 3
   },
   "file_extension": ".py",
   "mimetype": "text/x-python",
   "name": "python",
   "nbconvert_exporter": "python",
   "pygments_lexer": "ipython3",
   "version": "3.7.6"
  }
 },
 "nbformat": 4,
 "nbformat_minor": 4
}

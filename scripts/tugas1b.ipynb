{
 "cells": [
  {
   "cell_type": "markdown",
   "metadata": {},
   "source": [
    "# Pengenalan Pola\n",
    "\n",
    "## Tugas 1: Model Probabilistik\n",
    "\n",
    "### Mekanisme\n",
    "\n",
    "Anda hanya diwajibkan untuk mengumpulkan file ini saja ke uploader yang disediakan di http://elearning2.uai.ac.id/. Ganti nama file ini saat pengumpulan menjadi **tugas1_NIM.ipynb**.\n",
    "\n",
    "**Keterlambatan**: Pengumpulan tugas yang melebihi tenggat yang telah ditentukan tidak akan diterima. Keterlambatan akan berakibat pada nilai nol untuk tugas ini.\n",
    "\n",
    "**Kolaborasi**: Anda diperbolehkan untuk berdiskusi dengan teman Anda, tetapi dilarang keras menyalin kode maupun tulisan dari teman Anda.\n",
    "\n",
    "### Petunjuk\n",
    "\n",
    "Terdapat enam packages yang Anda akan gunakan dalam mengerjakan tugas ini, yaitu:\n",
    "\n",
    "- matplotlib\n",
    "- numpy\n",
    "- pandas\n",
    "- scipy\n",
    "- seaborn\n",
    "- scikit-learn\n",
    "\n",
    "Anda diperbolehkan (jika dirasa perlu) untuk mengimpor modul tambahan untuk tugas ini, kecuali dijelaskan sebaliknya. Namun, seharusnya modul yang tersedia sudah cukup untuk memenuhi kebutuhan Anda.\n",
    "\n",
    "Pastikan jawaban Anda singkat, padat, dan jelas. Mayoritas pertanyaan yang diberikan dapat dijawab dalam 3-4 kalimat saja."
   ]
  },
  {
   "cell_type": "markdown",
   "metadata": {},
   "source": [
    "**Nilai akhir: XX/50**"
   ]
  },
  {
   "cell_type": "code",
   "execution_count": null,
   "metadata": {},
   "outputs": [],
   "source": [
    "import matplotlib.pyplot as plt\n",
    "import numpy as np\n",
    "import pandas as pd\n",
    "import seaborn as sns\n",
    "\n",
    "%matplotlib inline"
   ]
  },
  {
   "cell_type": "code",
   "execution_count": null,
   "metadata": {},
   "outputs": [],
   "source": [
    "plt.rcParams['figure.figsize'] = (12,7)"
   ]
  },
  {
   "cell_type": "code",
   "execution_count": null,
   "metadata": {},
   "outputs": [],
   "source": [
    "df = sns.load_dataset('mpg')"
   ]
  },
  {
   "cell_type": "markdown",
   "metadata": {},
   "source": [
    "## 1. Eksplorasi dan Visualisasi Dataset (25 poin)\n",
    "\n",
    "Sebelum memulai melakukan pemodelan, ada baiknya bagi Anda untuk melakukan eskplorasi data dengan bantuan visualisasi."
   ]
  },
  {
   "cell_type": "markdown",
   "metadata": {},
   "source": [
    "### Soal 1.1.a (2 poin)\n",
    "\n",
    "Gambarkan histogram dari `acceleration`."
   ]
  },
  {
   "cell_type": "code",
   "execution_count": null,
   "metadata": {},
   "outputs": [],
   "source": []
  },
  {
   "cell_type": "markdown",
   "metadata": {},
   "source": [
    "### Soal 1.1.b (2 poin)\n",
    "\n",
    "Gambarkan bar plot untuk jumlah mobil dari masing-masing `origin`."
   ]
  },
  {
   "cell_type": "code",
   "execution_count": null,
   "metadata": {},
   "outputs": [],
   "source": []
  },
  {
   "cell_type": "markdown",
   "metadata": {},
   "source": [
    "### Soal 1.1.c (2 poin)\n",
    "\n",
    "Sekarang, bandingkan histogram `acceleration` untuk masing-masing `origin`. Jangan lupa untuk memasukkan legendanya."
   ]
  },
  {
   "cell_type": "code",
   "execution_count": null,
   "metadata": {},
   "outputs": [],
   "source": []
  },
  {
   "cell_type": "markdown",
   "metadata": {},
   "source": [
    "### Soal 1.1.d (2 poin)\n",
    "\n",
    "Buat visualisasi seperti pada soal 1.1.c, tetapi kali ini cocokkan distribusi Gaussian ke masing-masing `acceleration`. Anda dapat menghilangkan KDE plot yang ada jika Anda menggunakan seaborn. Warnai MLE dari Gaussians tersebut sesuai dengan warna histogram dari `origin` yang dicocokkan."
   ]
  },
  {
   "cell_type": "code",
   "execution_count": null,
   "metadata": {},
   "outputs": [],
   "source": [
    "from scipy.stats import norm"
   ]
  },
  {
   "cell_type": "markdown",
   "metadata": {},
   "source": [
    "### Soal 1.2 (2 poin)\n",
    "\n",
    "Gambarkan bar plot dari `model_year`. Urutkan bar plot tersebut berdasarkan tahunnya."
   ]
  },
  {
   "cell_type": "code",
   "execution_count": null,
   "metadata": {},
   "outputs": [],
   "source": []
  },
  {
   "cell_type": "markdown",
   "metadata": {},
   "source": [
    "### Soal 1.3.a (3 poin)\n",
    "\n",
    "Gambarkan histogram dari `mpg`. Cocokkan pula distribusi Gaussian ke data tersebut."
   ]
  },
  {
   "cell_type": "code",
   "execution_count": null,
   "metadata": {},
   "outputs": [],
   "source": []
  },
  {
   "cell_type": "markdown",
   "metadata": {},
   "source": [
    "### Soal 1.3.b (2 poin)\n",
    "\n",
    "Gambarkan scatter plot dari `mpg` dan `acceleration`."
   ]
  },
  {
   "cell_type": "code",
   "execution_count": null,
   "metadata": {},
   "outputs": [],
   "source": []
  },
  {
   "cell_type": "markdown",
   "metadata": {},
   "source": [
    "### Soal 1.3.c (1 poin)\n",
    "\n",
    "Tunjukkan matriks kovariansi dari `mpg` dan `acceleration`."
   ]
  },
  {
   "cell_type": "code",
   "execution_count": null,
   "metadata": {},
   "outputs": [],
   "source": []
  },
  {
   "cell_type": "markdown",
   "metadata": {},
   "source": [
    "### Soal 1.3.d (3 poin)\n",
    "\n",
    "Gambarkan contour plot dari bivariate Gaussian dengan atribut `mpg` dan `acceleration`. Gunakan *full covariance matrix*."
   ]
  },
  {
   "cell_type": "code",
   "execution_count": null,
   "metadata": {},
   "outputs": [],
   "source": [
    "from scipy.stats import multivariate_normal"
   ]
  },
  {
   "cell_type": "markdown",
   "metadata": {},
   "source": [
    "### Soal 1.4 (2 poin)\n",
    "\n",
    "Gambarkan [pairplot](https://seaborn.pydata.org/generated/seaborn.pairplot.html) dari `mpg`, `displacement`, `horsepower`, `weight`, dan `acceleration`. Karena nilai `horsepower` ada yang hilang. Anda dapat mengabaikan mobil dengan nilai yang hilang tersebut dari data. Bagi data berdasarkan `origin`."
   ]
  },
  {
   "cell_type": "code",
   "execution_count": null,
   "metadata": {},
   "outputs": [],
   "source": []
  },
  {
   "cell_type": "markdown",
   "metadata": {},
   "source": [
    "### Soal 1.5 (4 poin)\n",
    "\n",
    "Berikan kesimpulan dari eksplorasi yang telah Anda lakukan sejauh ini."
   ]
  },
  {
   "cell_type": "markdown",
   "metadata": {},
   "source": [
    "*Jawaban Anda di sini*"
   ]
  },
  {
   "cell_type": "markdown",
   "metadata": {},
   "source": [
    "## 2. Model Selection (15 poin)\n",
    "\n",
    "Kita akan mencoba menghitung likelihood dari salah satu atribut dalam data. Asumsikan bahwa kita punya dua hipotesis mengenai distribusi `model_year`.\n",
    "\n",
    "- $\\mathcal{M} = 1$ - dari distribusi *discrete uniform*, i.e. $year \\sim \\text{Unif}(a, b)$\n",
    "- $\\mathcal{M} = 2$ - dari distribusi Gaussian, i.e. $year \\sim \\mathcal{N}(\\mu, \\sigma^2)$"
   ]
  },
  {
   "cell_type": "markdown",
   "metadata": {},
   "source": [
    "### Soal 2.1 (4 poin)\n",
    "\n",
    "Berapa nilai MLE dari parameter $\\mathcal{M}_1$ dan $\\mathcal{M}_2$?"
   ]
  },
  {
   "cell_type": "code",
   "execution_count": null,
   "metadata": {},
   "outputs": [],
   "source": []
  },
  {
   "cell_type": "markdown",
   "metadata": {},
   "source": [
    "### Soal 2.2 (4 poin)\n",
    "\n",
    "Tuliskan rumus PMF dari $\\mathcal{M}_1$ dan PDF dari $\\mathcal{M}_2$.\n",
    "\n",
    "*Petunjuk: Gunakan [situs ini](https://www.codecogs.com/latex/eqneditor.php) untuk membantu menulis persamaan dalam LaTeX.*"
   ]
  },
  {
   "cell_type": "markdown",
   "metadata": {},
   "source": [
    "*Jawaban Anda di sini*"
   ]
  },
  {
   "cell_type": "markdown",
   "metadata": {},
   "source": [
    "### Soal 2.3.a (4 poin)\n",
    "\n",
    "Untuk membandingkan kedua model, hitunglah **log-likelihood**-nya. Ingat bahwa *log-likelihood* didefinisikan sebagai\n",
    "\n",
    "$$\n",
    "\\mathcal{L}(\\mathcal{M}) = \\sum_{i=1}^N \\log p(x_i|\\mathcal{M})\n",
    "$$\n",
    "\n",
    "*Sanity check: Nilai log-likelihood $\\leq 0$*"
   ]
  },
  {
   "cell_type": "code",
   "execution_count": null,
   "metadata": {},
   "outputs": [],
   "source": [
    "from IPython.display import display, HTML\n",
    "\n",
    "ll1 = ...\n",
    "\n",
    "display(HTML(\n",
    "    '$\\mathcal{L}(\\mathcal{M}_1) = %.2f$' % ll1\n",
    "))\n",
    "\n",
    "ll2 = ...\n",
    "\n",
    "display(HTML(\n",
    "    '$\\mathcal{L}(\\mathcal{M}_2) = %.2f$' % ll2\n",
    "))"
   ]
  },
  {
   "cell_type": "markdown",
   "metadata": {},
   "source": [
    "### Soal 2.3.b (3 poin)\n",
    "\n",
    "Berdasarkan kedua perhitungan pada soal 2.3.a, model mana yang lebih cocok menggambarkan data? Mengapa?"
   ]
  },
  {
   "cell_type": "markdown",
   "metadata": {},
   "source": [
    "*Jawaban Anda di sini*"
   ]
  },
  {
   "cell_type": "markdown",
   "metadata": {},
   "source": [
    "## 3. Distribusi Beta (10 poin)\n",
    "\n",
    "Dua orang petinju, MP dan ODLH, akan bertemu satu masing-masing dalam sebuah pertandingan amal. MP telah bertanding 70 kali dan memenangkan 61 pertandingan, sedangkan ODLH menang 39 kali dari 45 pertandingannya. Asumsikan bahwa Anda tidak tahu apapun tentang kemampuan kedua petinju ini awalnya, lalu Anda ingin memodelkan peluang MP akan menang dari ODLH."
   ]
  },
  {
   "cell_type": "markdown",
   "metadata": {},
   "source": [
    "### Soal 3.1 (2 poin)\n",
    "\n",
    "Jika Anda memodelkan kemampuan (*skill*) MP dan ODLH sebagai distribusi beta, berapa nilai parameter dari masing-masing model?"
   ]
  },
  {
   "cell_type": "code",
   "execution_count": null,
   "metadata": {},
   "outputs": [],
   "source": []
  },
  {
   "cell_type": "markdown",
   "metadata": {},
   "source": [
    "### Soal 3.2 (2 poin)\n",
    "\n",
    "Gambarkan distribusi dari \"skill\" kedua petinju."
   ]
  },
  {
   "cell_type": "code",
   "execution_count": null,
   "metadata": {},
   "outputs": [],
   "source": [
    "from scipy.stats import beta"
   ]
  },
  {
   "cell_type": "markdown",
   "metadata": {},
   "source": [
    "### Soal 3.3.a (4 poin)\n",
    "\n",
    "Berapa nilai ekspektasi dari variansi dari kedua model?"
   ]
  },
  {
   "cell_type": "code",
   "execution_count": null,
   "metadata": {},
   "outputs": [],
   "source": []
  },
  {
   "cell_type": "markdown",
   "metadata": {},
   "source": [
    "### Soal 3.3.b (2 poin)\n",
    "\n",
    "Berdasarkan ekspektasi tersebut, siapa petinju yang lebih baik?"
   ]
  },
  {
   "cell_type": "markdown",
   "metadata": {},
   "source": [
    "*Jawaban Anda di sini*"
   ]
  },
  {
   "cell_type": "markdown",
   "metadata": {},
   "source": [
    "## 4. Bonus (5 poin)\n",
    "\n",
    "Hitunglah peluang PM akan menang melawan ODLH.\n",
    "\n",
    "*Petunjuk: Anda dapat menggunakan referensi dari [Bayesian Methods for Hackers](https://nbviewer.jupyter.org/github/CamDavidsonPilon/Probabilistic-Programming-and-Bayesian-Methods-for-Hackers/blob/master/Chapter4_TheGreatestTheoremNeverTold/Ch4_LawOfLargeNumbers_PyMC3.ipynb#Example:-How-to-order-Reddit-submissions)*."
   ]
  },
  {
   "cell_type": "code",
   "execution_count": null,
   "metadata": {},
   "outputs": [],
   "source": [
    "import pymc3 as pm"
   ]
  }
 ],
 "metadata": {
  "kernelspec": {
   "display_name": "Python 3",
   "language": "python",
   "name": "python3"
  },
  "language_info": {
   "codemirror_mode": {
    "name": "ipython",
    "version": 3
   },
   "file_extension": ".py",
   "mimetype": "text/x-python",
   "name": "python",
   "nbconvert_exporter": "python",
   "pygments_lexer": "ipython3",
   "version": "3.6.7"
  }
 },
 "nbformat": 4,
 "nbformat_minor": 2
}

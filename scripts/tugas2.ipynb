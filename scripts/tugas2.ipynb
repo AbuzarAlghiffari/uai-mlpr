{
 "cells": [
  {
   "cell_type": "markdown",
   "metadata": {},
   "source": [
    "# Pengenalan Pola\n",
    "\n",
    "## Tugas 2: Klasifikasi Gambar\n",
    "\n",
    "### Mekanisme\n",
    "\n",
    "Anda hanya diwajibkan untuk mengumpulkan file ini saja ke uploader yang disediakan di http://elearning2.uai.ac.id/. Ganti nama file ini saat pengumpulan menjadi **tugas2_NIM.ipynb**.\n",
    "\n",
    "**Keterlambatan**: Pengumpulan tugas yang melebihi tenggat yang telah ditentukan tidak akan diterima. Keterlambatan akan berakibat pada nilai nol untuk tugas ini.\n",
    "\n",
    "**Kolaborasi**: Anda diperbolehkan untuk berdiskusi dengan teman Anda, tetapi dilarang keras menyalin kode maupun tulisan dari teman Anda.\n",
    "\n",
    "### Petunjuk\n",
    "\n",
    "Untuk kelancaran Anda, gunakan Python 3 dalam tugas ini. Selain itu, terdapat beberapa _packages_ yang Anda akan gunakan dalam mengerjakan tugas ini, yaitu:\n",
    "\n",
    "- matplotlib\n",
    "- numpy\n",
    "- pandas\n",
    "- scikit-learn\n",
    "- scipy\n",
    "- seaborn\n",
    "\n",
    "Anda diperbolehkan (jika dirasa perlu) untuk mengimpor modul tambahan untuk tugas ini. Namun, seharusnya modul yang tersedia sudah cukup untuk memenuhi kebutuhan Anda. Untuk kode yang Anda ambil dari sumber lain, **cantumkan URL menuju referensi tersebut jika diambil dari internet**!\n",
    "\n",
    "Perhatikan poin untuk tiap soal! **Semakin kecil poinnya, berarti kode yang diperlukan untuk menjawab soal tersebut seharusnya semakin sedikit!**"
   ]
  },
  {
   "cell_type": "markdown",
   "metadata": {},
   "source": [
    "**Nilai akhir: XX/70**"
   ]
  },
  {
   "cell_type": "markdown",
   "metadata": {},
   "source": [
    "### Deskripsi Dataset\n",
    "\n",
    "Dataset hewan merupakan hasil \"gambar tangan\" beberapa orang melalui internet. Dataset untuk tugas ini diambil dari [The Quick Draw Dataset](https://github.com/googlecreativelab/quickdraw-dataset) yang dikumpulkan oleh Google. Dataset ini terdiri dari 50 juta gambar yang terdiri dari 345 kategori.\n",
    "\n",
    "Untuk menyederhanakan tugas Anda, hanya subset dari dataset hewan yang diambil, yaitu sejumlah gambar dari 4 kategori hewan: **cat**, **crab**, **dog**, dan **dolphin**. Anda akan mengeksplorasi beberapa algoritma pembelajaran mesin yang dapat digunakan untuk mengklasifikasi gambar-gambar tersebut. Selain itu, Anda juga akan membuat beberapa visualisasi dari beberapa sampel gambar dalam dataset."
   ]
  },
  {
   "cell_type": "markdown",
   "metadata": {},
   "source": [
    "### Mengimpor Modul dan Dataset"
   ]
  },
  {
   "cell_type": "code",
   "execution_count": null,
   "metadata": {
    "collapsed": true
   },
   "outputs": [],
   "source": [
    "import matplotlib.pyplot as plt\n",
    "import numpy as np\n",
    "import pandas as pd\n",
    "import seaborn as sns\n",
    "%matplotlib inline\n",
    "\n",
    "RANDOM_STATE = 1337\n",
    "np.random.seed(RANDOM_STATE)"
   ]
  },
  {
   "cell_type": "code",
   "execution_count": null,
   "metadata": {},
   "outputs": [],
   "source": [
    "from sklearn.linear_model import LogisticRegression\n",
    "from sklearn.metrics import accuracy_score, confusion_matrix\n",
    "from sklearn.model_selection import train_test_split"
   ]
  },
  {
   "cell_type": "code",
   "execution_count": null,
   "metadata": {
    "collapsed": true
   },
   "outputs": [],
   "source": [
    "X = np.load('../datasets/quickdraw.npy')\n",
    "y = np.load('../datasets/quickdraw_labels.npy').astype('str')\n",
    "\n",
    "X_train, X_test, y_train, y_test = train_test_split(X, y, test_size=0.3, random_state=42)"
   ]
  },
  {
   "cell_type": "markdown",
   "metadata": {},
   "source": [
    "## 1. Eksplorasi Awal Data (15 poin)"
   ]
  },
  {
   "cell_type": "markdown",
   "metadata": {},
   "source": [
    "### Soal 1.1 (4 poin)\n",
    "\n",
    "Tampilkan 5 gambar sampel dari masing-masing kelas dalam `X_train` secara acak, lalu buatlah dalam bentuk grid berukuran 4 x 5!"
   ]
  },
  {
   "cell_type": "code",
   "execution_count": null,
   "metadata": {},
   "outputs": [],
   "source": []
  },
  {
   "cell_type": "markdown",
   "metadata": {},
   "source": [
    "### Soal 1.2.a (4 poin)\n",
    "\n",
    "Gambarkan histogram nilai pixel di posisi (0,0), i.e. pojok kiri atas, dan (15,15) dari data `X_train` dalam dua plot yang berbeda. Batasi sumbu x untuk bernilai $x \\in [0, 1]$. Bagi nilai tiap pixel dengan 255 terlebih dahulu."
   ]
  },
  {
   "cell_type": "code",
   "execution_count": null,
   "metadata": {},
   "outputs": [],
   "source": []
  },
  {
   "cell_type": "markdown",
   "metadata": {},
   "source": [
    "### Soal 1.2.b (2 poin)\n",
    "\n",
    "Apa yang dapat Anda simpulkan dari kedua histogram tersebut?"
   ]
  },
  {
   "cell_type": "markdown",
   "metadata": {},
   "source": [
    "_Jawaban Anda di sini_"
   ]
  },
  {
   "cell_type": "markdown",
   "metadata": {},
   "source": [
    "### Soal 1.3 (2 poin)\n",
    "\n",
    "Berapa jumlah data untuk masing-masing kelas dalam data latih dan data uji?"
   ]
  },
  {
   "cell_type": "code",
   "execution_count": null,
   "metadata": {},
   "outputs": [],
   "source": []
  },
  {
   "cell_type": "markdown",
   "metadata": {},
   "source": [
    "## 2. Klasifikasi dengan Naive Bayes (25 poin)"
   ]
  },
  {
   "cell_type": "markdown",
   "metadata": {},
   "source": [
    "### Soal 2.1.a (1 poin)\n",
    "\n",
    "Ubah nilai pixel dalam `X_train` dan `X_test` dengan membaginya dengan 255."
   ]
  },
  {
   "cell_type": "code",
   "execution_count": null,
   "metadata": {
    "collapsed": true
   },
   "outputs": [],
   "source": []
  },
  {
   "cell_type": "markdown",
   "metadata": {},
   "source": [
    "### Soal 2.1.b (2 poin)\n",
    "\n",
    "Ubah nilai `y_train` dan `y_test` menggunakan `LabelEncoder` agar menjadi $\\in \\{1,2,3,4\\}$."
   ]
  },
  {
   "cell_type": "code",
   "execution_count": null,
   "metadata": {},
   "outputs": [],
   "source": [
    "from sklearn.preprocessing import LabelEncoder"
   ]
  },
  {
   "cell_type": "markdown",
   "metadata": {},
   "source": [
    "### Soal 2.2 (5 poin)\n",
    "\n",
    "Dengan modul `GaussianNB`, klasifikasikan `X_test` dari `X_train`, laporkan akurasinya dan gambarkan *heatmap* dari *confusion matrix*-nya! Jangan lupa untuk memberikan label untuk masing-masing sumbunya dan menganotasi tiap kotak pada *heatmap*!\n",
    "\n",
    "Pada proses pelatihan model (`clf.fit()`), tambahkan `%timeit -n1` pada baris yang sama sehingga menjadi `%timeit -n1 clf.fit()`. Ini akan menunjukkan waktu yang dibutuhkan untuk melatih model tersebut."
   ]
  },
  {
   "cell_type": "code",
   "execution_count": null,
   "metadata": {},
   "outputs": [],
   "source": [
    "from sklearn.naive_bayes import GaussianNB"
   ]
  },
  {
   "cell_type": "markdown",
   "metadata": {},
   "source": [
    "### Soal 2.3 (3 poin)\n",
    "\n",
    "Terapkan PCA pada `X_train`. Gunakan semua dimensi yang dihasilkan dari metode PCA, lalu plot persentase kumulatif variansi yang dijelaskan untuk setiap penambahan *principal component*. Berikan garis putus-putus horizontal untuk menandai saat persentase kumulatifnya mencapai 90%. Catat waktu yang dibutuhkan untuk proses transformasi `X_train` dengan PCA dengan `%timeit -n1`.\n",
    "\n",
    "*Petunjuk: Gunakan `.fit()` dari modul `PCA` dan baca dokumentasinya untuk tahu lebih lengkap cara pemakaiannya!*"
   ]
  },
  {
   "cell_type": "code",
   "execution_count": null,
   "metadata": {},
   "outputs": [],
   "source": [
    "from sklearn.decomposition import PCA"
   ]
  },
  {
   "cell_type": "markdown",
   "metadata": {},
   "source": [
    "### Soal 2.4.a (5 poin)\n",
    "\n",
    "Dari soal sebelumnya, Anda mungkin akan memperhatikan bahwa 90% variansi dapat dijelaskan dengan 200 komponen prinsipil. Transformasikan data dengan PCA dan ambil 200 komponen saja kali ini.\n",
    "\n",
    "Latih kembali model Naive Bayes Anda dengan kode seperti yang telah Anda buat di soal 2.2 dan prediksi label `X_test` yang telah diubah dengan PCA! Apakah Anda menemukan perbedaan waktu dan akurasi dengan soal 2.2?"
   ]
  },
  {
   "cell_type": "code",
   "execution_count": null,
   "metadata": {},
   "outputs": [],
   "source": []
  },
  {
   "cell_type": "markdown",
   "metadata": {},
   "source": [
    "### Soal 2.4.b (2 poin)\n",
    "\n",
    "Apa yang menyebabkan perbedaan waktu dan akurasi dari model Naive Bayes sebelum dan setelah menggunakan PCA?"
   ]
  },
  {
   "cell_type": "markdown",
   "metadata": {},
   "source": [
    "*Jawaban Anda di sini*"
   ]
  },
  {
   "cell_type": "markdown",
   "metadata": {},
   "source": [
    "### Soal 2.5 (2 poin)\n",
    "\n",
    "Lakukan PCA kembali untuk menghasilkan 2 komponen prinsipil saja dari `X_train`. Lalu, visualisasikan hasil transformasi tersebut dalam *scatter plot* yang dibedakan warnanya berdasarkan kelas dalam `y_train`!"
   ]
  },
  {
   "cell_type": "code",
   "execution_count": null,
   "metadata": {
    "scrolled": false
   },
   "outputs": [],
   "source": []
  },
  {
   "cell_type": "markdown",
   "metadata": {},
   "source": [
    "### Soal 2.6 (5 poin)\n",
    "\n",
    "Berikan kesimpulan sementara Anda dari eksplorasi dengan PCA dan Naive Bayes ini."
   ]
  },
  {
   "cell_type": "markdown",
   "metadata": {},
   "source": [
    "*Jawaban Anda di sini*"
   ]
  },
  {
   "cell_type": "markdown",
   "metadata": {},
   "source": [
    "## 3. Model Linear (30 poin)"
   ]
  },
  {
   "cell_type": "markdown",
   "metadata": {},
   "source": [
    "### Soal 3.1.a (3 poin)\n",
    "\n",
    "Klasifikasikan data `X_test` dengan melatih model regresi logistik dari `X_train`. Gunakan parameter bawaan dari pustakanya. Laporkan akurasi dan *confusion matrix*-nya."
   ]
  },
  {
   "cell_type": "code",
   "execution_count": null,
   "metadata": {},
   "outputs": [],
   "source": [
    "from sklearn.linear_model import LogisticRegression"
   ]
  },
  {
   "cell_type": "markdown",
   "metadata": {},
   "source": [
    "### Soal 3.1.b (2 poin)\n",
    "\n",
    "Gambarkan nilai dari koefisien yang membentuk masing-masing kelas dalam bentuk line plot. Dengan demikian, seharusnya Anda akan punya 4 line plots."
   ]
  },
  {
   "cell_type": "code",
   "execution_count": null,
   "metadata": {},
   "outputs": [],
   "source": []
  },
  {
   "cell_type": "markdown",
   "metadata": {},
   "source": [
    "### Soal 3.2.a (2 poin)\n",
    "\n",
    "Klasifikasikan kembali data, tapi kali ini ubah nilai parameter `C` menjadi 0.01. Laporkan kembali akurasi dan *confusion matrix*-nya."
   ]
  },
  {
   "cell_type": "code",
   "execution_count": null,
   "metadata": {},
   "outputs": [],
   "source": []
  },
  {
   "cell_type": "markdown",
   "metadata": {},
   "source": [
    "### Soal 3.2.b (3 poin)\n",
    "\n",
    "Gambarkan kembali koefisien dari modelnya seperti pada soal 3.1.b. Apa yang dapat Anda perhatikan?\n",
    "\n",
    "*Petunjuk: Perhatikan skala gambarnya!*"
   ]
  },
  {
   "cell_type": "code",
   "execution_count": null,
   "metadata": {},
   "outputs": [],
   "source": []
  },
  {
   "cell_type": "markdown",
   "metadata": {},
   "source": [
    "*Jawaban Anda di sini*"
   ]
  },
  {
   "cell_type": "markdown",
   "metadata": {},
   "source": [
    "### Soal 3.3 (5 poin)\n",
    "\n",
    "Terapkan PCA pada data dan ambil 200 komponen prinsipil pertama. Klasifikasikan kembali dengan model regresi logistik. Laporkan akurasi dan gambarkan *heatmap* dari *confusion matrix*-nya. Apakah hasil klasifikasinya menjadi lebih baik? Mengapa?"
   ]
  },
  {
   "cell_type": "code",
   "execution_count": null,
   "metadata": {},
   "outputs": [],
   "source": []
  },
  {
   "cell_type": "markdown",
   "metadata": {},
   "source": [
    "*Jawaban Anda di sini*"
   ]
  },
  {
   "cell_type": "markdown",
   "metadata": {},
   "source": [
    "### Soal 3.4.a (4 poin)\n",
    "\n",
    "Kita akan mengevaluasi lebih jauh mengenai efek regularisasi. Lakukan klasifikasi dengan regresi logistik pada `X_train_pca` dan `X_test_pca` dengan nilai $C = \\{10^x|-2 \\leq x \\leq 6, x \\in \\mathbb{Z}\\}$. Plot hasilnya dengan menggunakan sumbu x berbasis $\\log_{10} C$."
   ]
  },
  {
   "cell_type": "code",
   "execution_count": null,
   "metadata": {},
   "outputs": [],
   "source": []
  },
  {
   "cell_type": "markdown",
   "metadata": {},
   "source": [
    "### Soal 3.4.b (3 poin)\n",
    "\n",
    "Buatlah *pipeline* dengan menggunakan transformasi Gaussian seperti yang dicontohkan di [sini](https://jakevdp.github.io/PythonDataScienceHandbook/05.06-linear-regression.html#Gaussian-basis-functions). Gunakan nilai fitur [2, 4, 8, 16, 32]. Gambarkan plotnya seperti pada soal 3.4.a. Apa yang dapat Anda perhatikan?"
   ]
  },
  {
   "cell_type": "code",
   "execution_count": null,
   "metadata": {},
   "outputs": [],
   "source": [
    "from sklearn.base import BaseEstimator, TransformerMixin\n",
    "\n",
    "class GaussianFeatures(BaseEstimator, TransformerMixin):\n",
    "    \"\"\"Uniformly spaced Gaussian features for one-dimensional input\"\"\"\n",
    "    \n",
    "    def __init__(self, N, width_factor=2.0):\n",
    "        self.N = N\n",
    "        self.width_factor = width_factor\n",
    "    \n",
    "    @staticmethod\n",
    "    def _gauss_basis(x, y, width, axis=None):\n",
    "        arg = (x - y) / width\n",
    "        return np.exp(-0.5 * np.sum(arg ** 2, axis))\n",
    "        \n",
    "    def fit(self, X, y=None):\n",
    "        # create N centers spread along the data range\n",
    "        self.centers_ = np.linspace(X.min(), X.max(), self.N)\n",
    "        self.width_ = self.width_factor * (self.centers_[1] - self.centers_[0])\n",
    "        return self\n",
    "        \n",
    "    def transform(self, X):\n",
    "        return self._gauss_basis(X[:, :, np.newaxis], self.centers_,\n",
    "                                 self.width_, axis=1)"
   ]
  },
  {
   "cell_type": "code",
   "execution_count": null,
   "metadata": {},
   "outputs": [],
   "source": [
    "from sklearn.pipeline import make_pipeline"
   ]
  },
  {
   "cell_type": "markdown",
   "metadata": {},
   "source": [
    "### Soal 3.4.c (5 poin)\n",
    "\n",
    "Apa yang menjadi masalah pada hasil soal 3.4.a dan 3.4.b? Apa yang mungkin dapat dilakukan untuk memperbaiki akurasi dari modelnya? Lakukan eksplorasi tambahan jika diperlukan!"
   ]
  },
  {
   "cell_type": "code",
   "execution_count": null,
   "metadata": {},
   "outputs": [],
   "source": []
  },
  {
   "cell_type": "markdown",
   "metadata": {},
   "source": [
    "*Jawaban Anda di sini*"
   ]
  },
  {
   "cell_type": "markdown",
   "metadata": {},
   "source": [
    "### Soal 3.5 (3 poin)\n",
    "\n",
    "Berikan kesimpulan Anda dari hasil eksplorasi Anda dalam tugas ini."
   ]
  },
  {
   "cell_type": "markdown",
   "metadata": {},
   "source": [
    "*Jawaban Anda di sini*"
   ]
  }
 ],
 "metadata": {
  "kernelspec": {
   "display_name": "Python 3",
   "language": "python",
   "name": "python3"
  },
  "language_info": {
   "codemirror_mode": {
    "name": "ipython",
    "version": 3
   },
   "file_extension": ".py",
   "mimetype": "text/x-python",
   "name": "python",
   "nbconvert_exporter": "python",
   "pygments_lexer": "ipython3",
   "version": "3.6.2"
  }
 },
 "nbformat": 4,
 "nbformat_minor": 2
}

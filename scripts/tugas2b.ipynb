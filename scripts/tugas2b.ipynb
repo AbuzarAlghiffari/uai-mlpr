{
 "cells": [
  {
   "cell_type": "markdown",
   "metadata": {},
   "source": [
    "# Pengenalan Pola\n",
    "\n",
    "## Tugas 2: Klasifikasi Gambar\n",
    "\n",
    "### Mekanisme\n",
    "\n",
    "Anda hanya diwajibkan untuk mengumpulkan file ini saja ke uploader yang disediakan di https://elearning.uai.ac.id/. Ganti nama file ini saat pengumpulan menjadi **tugas2_NIM.ipynb**.\n",
    "\n",
    "**Keterlambatan**: Pengumpulan tugas yang melebihi tenggat yang telah ditentukan tidak akan diterima. Keterlambatan akan berakibat pada nilai nol untuk tugas ini.\n",
    "\n",
    "**Kolaborasi**: Anda diperbolehkan untuk berdiskusi dengan teman Anda, tetapi dilarang keras menyalin kode maupun tulisan dari teman Anda.\n",
    "\n",
    "### Petunjuk\n",
    "\n",
    "Untuk kelancaran Anda, gunakan Python 3 dalam tugas ini. Selain itu, terdapat beberapa _packages_ yang Anda akan gunakan dalam mengerjakan tugas ini, yaitu:\n",
    "\n",
    "- matplotlib\n",
    "- numpy\n",
    "- pandas\n",
    "- scikit-learn\n",
    "- scipy\n",
    "- seaborn\n",
    "\n",
    "Anda diperbolehkan (jika dirasa perlu) untuk mengimpor modul tambahan untuk tugas ini. Namun, seharusnya modul yang tersedia sudah cukup untuk memenuhi kebutuhan Anda. Untuk kode yang Anda ambil dari sumber lain, **cantumkan URL menuju referensi tersebut jika diambil dari internet**!\n",
    "\n",
    "Perhatikan poin untuk tiap soal! **Semakin kecil poinnya, berarti kode yang diperlukan untuk menjawab soal tersebut seharusnya semakin sedikit!**"
   ]
  },
  {
   "cell_type": "markdown",
   "metadata": {},
   "source": [
    "**Nilai akhir: XX/40**"
   ]
  },
  {
   "cell_type": "markdown",
   "metadata": {},
   "source": [
    "### Deskripsi Dataset\n",
    "\n",
    "Dataset ini merupakan wajah orang-orang yang diambil dari April 1992 hingga April 1994 di Lab AT&T Cambridge. Ada 10 wajah untuk 40 orang dalam dataset ini. Keterangan lebih lengkap dapat dilihat di https://scikit-learn.org/stable/datasets/index.html#the-olivetti-faces-dataset."
   ]
  },
  {
   "cell_type": "markdown",
   "metadata": {},
   "source": [
    "### Mengimpor Modul dan Dataset"
   ]
  },
  {
   "cell_type": "code",
   "execution_count": null,
   "metadata": {},
   "outputs": [],
   "source": [
    "import matplotlib.pyplot as plt\n",
    "import numpy as np\n",
    "import pandas as pd\n",
    "import seaborn as sns\n",
    "%matplotlib inline\n",
    "\n",
    "RANDOM_STATE = 1337\n",
    "np.random.seed(RANDOM_STATE)"
   ]
  },
  {
   "cell_type": "code",
   "execution_count": null,
   "metadata": {},
   "outputs": [],
   "source": [
    "from sklearn.metrics import accuracy_score, confusion_matrix\n",
    "from sklearn.model_selection import train_test_split"
   ]
  },
  {
   "cell_type": "code",
   "execution_count": null,
   "metadata": {},
   "outputs": [],
   "source": [
    "from sklearn.datasets import fetch_olivetti_faces\n",
    "\n",
    "dataset = fetch_olivetti_faces()\n",
    "X, y = dataset['images'], dataset['target']\n",
    "X_train, X_test, y_train, y_test = train_test_split(X, y, test_size=0.3, random_state=42)"
   ]
  },
  {
   "cell_type": "markdown",
   "metadata": {},
   "source": [
    "## 1. Eksplorasi Awal Data (12 poin)"
   ]
  },
  {
   "cell_type": "markdown",
   "metadata": {},
   "source": [
    "### Soal 1.1 (4 poin)\n",
    "\n",
    "Tampilkan 15 gambar sampel dalam `X_train` secara acak, lalu buatlah dalam bentuk grid berukuran 3 x 5!"
   ]
  },
  {
   "cell_type": "code",
   "execution_count": null,
   "metadata": {},
   "outputs": [],
   "source": [
    "# Kode Anda di sini"
   ]
  },
  {
   "cell_type": "markdown",
   "metadata": {},
   "source": [
    "### Soal 1.2.a (4 poin)\n",
    "\n",
    "Gambarkan histogram nilai pixel di posisi (0,0), i.e. pojok kiri atas, dan (15,15) dari data `X_train` dalam dua plot yang berbeda."
   ]
  },
  {
   "cell_type": "code",
   "execution_count": null,
   "metadata": {},
   "outputs": [],
   "source": [
    "# Kode Anda di sini"
   ]
  },
  {
   "cell_type": "markdown",
   "metadata": {},
   "source": [
    "### Soal 1.2.b (2 poin)\n",
    "\n",
    "Apa yang dapat Anda simpulkan dari kedua histogram tersebut?"
   ]
  },
  {
   "cell_type": "markdown",
   "metadata": {},
   "source": [
    "_Jawaban Anda di sini_"
   ]
  },
  {
   "cell_type": "markdown",
   "metadata": {},
   "source": [
    "### Soal 1.3 (2 poin)\n",
    "\n",
    "Berapa jumlah data untuk masing-masing kelas dalam data latih dan data uji?"
   ]
  },
  {
   "cell_type": "code",
   "execution_count": null,
   "metadata": {},
   "outputs": [],
   "source": [
    "# Kode Anda di sini"
   ]
  },
  {
   "cell_type": "markdown",
   "metadata": {},
   "source": [
    "## 2. Klasifikasi dengan Naive Bayes dan PCA (28 poin)"
   ]
  },
  {
   "cell_type": "markdown",
   "metadata": {},
   "source": [
    "### Soal 2.1 (2 poin)\n",
    "\n",
    "Ubah dimensi dari data Anda menjadi $(n, 64\\times64)$ atau $(n, 4096)$."
   ]
  },
  {
   "cell_type": "code",
   "execution_count": null,
   "metadata": {},
   "outputs": [],
   "source": [
    "# Kode Anda di sini"
   ]
  },
  {
   "cell_type": "markdown",
   "metadata": {},
   "source": [
    "### Soal 2.2 (1 poin)\n",
    "\n",
    "Gambarkan bar plot yang menunjukkan distribusi dari kelas dalam `y_train`."
   ]
  },
  {
   "cell_type": "code",
   "execution_count": null,
   "metadata": {},
   "outputs": [],
   "source": [
    "# Kode Anda di sini"
   ]
  },
  {
   "cell_type": "markdown",
   "metadata": {},
   "source": [
    "### Soal 2.3 (5 poin)\n",
    "\n",
    "Dengan modul `GaussianNB`, klasifikasikan `X_test` dari `X_train`, laporkan akurasinya dan gambarkan *heatmap* dari *confusion matrix*-nya! Jangan lupa untuk memberikan label untuk masing-masing sumbunya dan menganotasi tiap kotak pada *heatmap*!\n",
    "\n",
    "Pada proses pelatihan model (`clf.fit()`), tambahkan `%timeit -n1` pada baris yang sama sehingga menjadi `%timeit -n1 clf.fit()`. Ini akan menunjukkan waktu yang dibutuhkan untuk melatih model tersebut."
   ]
  },
  {
   "cell_type": "code",
   "execution_count": null,
   "metadata": {},
   "outputs": [],
   "source": [
    "# Kode Anda di sini"
   ]
  },
  {
   "cell_type": "markdown",
   "metadata": {},
   "source": [
    "### Soal 2.4.a (3 poin)\n",
    "\n",
    "Terapkan PCA pada `X_train`. Gunakan semua dimensi yang dihasilkan dari metode PCA, lalu plot persentase kumulatif variansi yang dijelaskan untuk setiap penambahan *principal component*. Berikan garis putus-putus horizontal untuk menandai saat persentase kumulatifnya mencapai 90%. Catat waktu yang dibutuhkan untuk proses transformasi `X_train` dengan PCA dengan `%timeit -n1`.\n",
    "\n",
    "*Petunjuk: Gunakan `.fit()` dari modul `PCA` dan baca dokumentasinya untuk tahu lebih lengkap cara pemakaiannya!*"
   ]
  },
  {
   "cell_type": "code",
   "execution_count": null,
   "metadata": {},
   "outputs": [],
   "source": [
    "# Kode Anda di sini"
   ]
  },
  {
   "cell_type": "markdown",
   "metadata": {},
   "source": [
    "### Soal 2.4.b (3 poin)\n",
    "\n",
    "Dari 15 principal components yang pertama, ubah ukuran setiap principal component-nya menjadi 28x28, lalu tunjukkan gambarnya."
   ]
  },
  {
   "cell_type": "code",
   "execution_count": null,
   "metadata": {},
   "outputs": [],
   "source": [
    "# Kode Anda di sini"
   ]
  },
  {
   "cell_type": "markdown",
   "metadata": {},
   "source": [
    "### Soal 2.5.a (5 poin)\n",
    "\n",
    "Dari soal sebelumnya, Anda mungkin akan memperhatikan bahwa ~90% variansi dapat dijelaskan dengan 60 komponen prinsipil. Transformasikan data dengan PCA dan ambil 60 komponen saja kali ini.\n",
    "\n",
    "Latih kembali model Naive Bayes Anda dengan kode seperti yang telah Anda buat di soal 2.2 dan prediksi label `X_test` yang telah diubah dengan PCA! Apakah Anda menemukan perbedaan waktu dan akurasi dengan soal 2.2?"
   ]
  },
  {
   "cell_type": "code",
   "execution_count": null,
   "metadata": {},
   "outputs": [],
   "source": [
    "# Kode Anda di sini"
   ]
  },
  {
   "cell_type": "markdown",
   "metadata": {},
   "source": [
    "### Soal 2.5.b (2 poin)\n",
    "\n",
    "Apa yang menyebabkan perbedaan waktu dan akurasi dari model Naive Bayes sebelum dan setelah menggunakan PCA?"
   ]
  },
  {
   "cell_type": "markdown",
   "metadata": {},
   "source": [
    "*Jawaban Anda di sini*"
   ]
  },
  {
   "cell_type": "markdown",
   "metadata": {},
   "source": [
    "### Soal 2.6 (2 poin)\n",
    "\n",
    "Lakukan PCA kembali untuk menghasilkan 2 komponen prinsipil saja dari `X_train`. Lalu, visualisasikan hasil transformasi tersebut dalam *scatter plot* yang dibedakan warnanya berdasarkan kelas dalam `y_train`!\n",
    "\n",
    "*Tips: Sebaiknya gunakan cmap='tab20' untuk palet warnanya agar perbedaan kelas dapat terlihat lebih jelas.*"
   ]
  },
  {
   "cell_type": "code",
   "execution_count": null,
   "metadata": {},
   "outputs": [],
   "source": [
    "# Kode Anda di sini"
   ]
  },
  {
   "cell_type": "markdown",
   "metadata": {},
   "source": [
    "### Soal 2.7 (5 poin)\n",
    "\n",
    "Berikan kesimpulan Anda dari eksplorasi dengan PCA dan Naive Bayes ini."
   ]
  },
  {
   "cell_type": "markdown",
   "metadata": {},
   "source": [
    "*Jawaban Anda di sini*"
   ]
  }
 ],
 "metadata": {
  "kernelspec": {
   "display_name": "Python 3",
   "language": "python",
   "name": "python3"
  },
  "language_info": {
   "codemirror_mode": {
    "name": "ipython",
    "version": 3
   },
   "file_extension": ".py",
   "mimetype": "text/x-python",
   "name": "python",
   "nbconvert_exporter": "python",
   "pygments_lexer": "ipython3",
   "version": "3.7.6"
  }
 },
 "nbformat": 4,
 "nbformat_minor": 4
}

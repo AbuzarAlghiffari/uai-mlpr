{
 "cells": [
  {
   "cell_type": "markdown",
   "metadata": {},
   "source": [
    "# Pengenalan Pola\n",
    "\n",
    "## Tugas 4: Clustering\n",
    "\n",
    "### Mekanisme\n",
    "\n",
    "Anda hanya diwajibkan untuk mengumpulkan file ini saja ke uploader yang disediakan di http://elearning2.uai.ac.id/. Ganti nama file ini saat pengumpulan menjadi **tugas4_NIM.ipynb**.\n",
    "\n",
    "**Keterlambatan**: Pengumpulan tugas yang melebihi tenggat yang telah ditentukan tidak akan diterima. Keterlambatan akan berakibat pada nilai nol untuk tugas ini.\n",
    "\n",
    "**Kolaborasi**: Anda diperbolehkan untuk berdiskusi dengan teman Anda, tetapi dilarang keras menyalin kode maupun tulisan dari teman Anda.\n",
    "\n",
    "### Petunjuk\n",
    "\n",
    "Untuk kelancaran Anda, gunakan Python 3 dalam tugas ini. Selain itu, terdapat beberapa _packages_ yang Anda akan gunakan dalam mengerjakan tugas ini, yaitu:\n",
    "\n",
    "- matplotlib\n",
    "- numpy\n",
    "- pandas\n",
    "- scikit-learn\n",
    "- scipy\n",
    "- seaborn\n",
    "\n",
    "Anda diperbolehkan (jika dirasa perlu) untuk mengimpor modul tambahan untuk tugas ini. Namun, seharusnya modul yang tersedia sudah cukup untuk memenuhi kebutuhan Anda. Untuk kode yang Anda ambil dari sumber lain, **cantumkan URL menuju referensi tersebut jika diambil dari internet**!\n",
    "\n",
    "Perhatikan poin untuk tiap soal! **Semakin kecil poinnya, berarti kode yang diperlukan untuk menjawab soal tersebut seharusnya semakin sedikit!**"
   ]
  },
  {
   "cell_type": "markdown",
   "metadata": {},
   "source": [
    "**Nilai akhir: XX/65**"
   ]
  },
  {
   "cell_type": "markdown",
   "metadata": {},
   "source": [
    "### Deskripsi Dataset\n",
    "\n",
    "Dataset yang Anda akan gunakan adalah artikel berita dari BBC yang telah dibuat dalam bentuk yang mudah diakses. Dataset ini terdiri dari 2225 dokumen dari situs berita BBC pada tahun 2004-2005 yang berasal dari lima topik: (business, entertainment, politics, sport, tech).\n",
    "\n",
    "Untuk dataset aslinya dapat Anda akses di [sini](http://mlg.ucd.ie/datasets/bbc.html). Dataset ini dipublikasikan bersama dengan makalah berikut:\n",
    "\n",
    "> D. Greene and P. Cunningham. \"Practical Solutions to the Problem of Diagonal Dominance in Kernel Document Clustering\", Proc. ICML 2006."
   ]
  },
  {
   "cell_type": "markdown",
   "metadata": {},
   "source": [
    "### Mengimpor Modul dan Dataset"
   ]
  },
  {
   "cell_type": "code",
   "execution_count": null,
   "metadata": {
    "collapsed": true
   },
   "outputs": [],
   "source": [
    "import matplotlib.pyplot as plt\n",
    "import numpy as np\n",
    "import pandas as pd\n",
    "import seaborn as sns\n",
    "\n",
    "%matplotlib inline\n",
    "\n",
    "RANDOM_STATE = 1337\n",
    "np.random.seed(RANDOM_STATE)"
   ]
  },
  {
   "cell_type": "code",
   "execution_count": null,
   "metadata": {},
   "outputs": [],
   "source": [
    "plt.rcParams['figure.figsize'] = (12.0, 7.0)"
   ]
  },
  {
   "cell_type": "code",
   "execution_count": null,
   "metadata": {},
   "outputs": [],
   "source": [
    "from sklearn.cluster import KMeans\n",
    "from sklearn.mixture import GaussianMixture\n",
    "from sklearn.metrics import accuracy_score, confusion_matrix\n",
    "from sklearn.model_selection import train_test_split"
   ]
  },
  {
   "cell_type": "code",
   "execution_count": null,
   "metadata": {},
   "outputs": [],
   "source": [
    "from sklearn.feature_extraction.text import CountVectorizer, TfidfVectorizer\n",
    "from sklearn.decomposition import TruncatedSVD\n",
    "from sklearn.pipeline import make_pipeline"
   ]
  },
  {
   "cell_type": "code",
   "execution_count": null,
   "metadata": {},
   "outputs": [],
   "source": [
    "df = pd.read_csv('../datasets/bbc.csv')"
   ]
  },
  {
   "cell_type": "code",
   "execution_count": null,
   "metadata": {
    "collapsed": true
   },
   "outputs": [],
   "source": [
    "X = df['text']\n",
    "y = df['y'].astype('category')"
   ]
  },
  {
   "cell_type": "markdown",
   "metadata": {},
   "source": [
    "## 1. Eksplorasi Awal Data (15 poin)"
   ]
  },
  {
   "cell_type": "markdown",
   "metadata": {},
   "source": [
    "### Soal 1.1.a (4 poin)\n",
    "\n",
    "Tunjukkan 25 kata-kata yang paling sering muncul dalam semua dokumen.\n",
    "\n",
    "*Petunjuk: Gunakan modul* `CountVectorizer`."
   ]
  },
  {
   "cell_type": "code",
   "execution_count": null,
   "metadata": {},
   "outputs": [],
   "source": []
  },
  {
   "cell_type": "markdown",
   "metadata": {},
   "source": [
    "### Soal 1.1.b (2 poin)\n",
    "\n",
    "Anda mungkin akan menemukan bahwa ada banyak kata-kata yang berupa kata hubung dari 25 kata-kata yang paling sering muncul tersebut. Kata-kata ini sering dikenal dengan nama *stopwords*. Hapus kata-kata ini dengan mengatur parameter `stop_words='english'` pada modul `CountVectorizer`. Apakah kata-katanya berubah?"
   ]
  },
  {
   "cell_type": "code",
   "execution_count": null,
   "metadata": {},
   "outputs": [],
   "source": []
  },
  {
   "cell_type": "markdown",
   "metadata": {},
   "source": [
    "### Soal 1.2 (4 poin)\n",
    "\n",
    "Dengan menggunakan cara yang sama, munculkan 25 kata-kata yang sering muncul dari dokumen dalam tiap topik/kategori."
   ]
  },
  {
   "cell_type": "code",
   "execution_count": null,
   "metadata": {},
   "outputs": [],
   "source": []
  },
  {
   "cell_type": "markdown",
   "metadata": {},
   "source": [
    "### Soal 1.3 (5 poin)\n",
    "\n",
    "Lakukan eksplorasi tambahan terhadap data yang diberikan. Apa kesimpulan Anda dari eksplorasi awal sejauh ini?"
   ]
  },
  {
   "cell_type": "markdown",
   "metadata": {},
   "source": [
    "*Jawaban Anda di sini*"
   ]
  },
  {
   "cell_type": "markdown",
   "metadata": {},
   "source": [
    "## 2. Clustering dengan k-Means (20 poin)"
   ]
  },
  {
   "cell_type": "markdown",
   "metadata": {},
   "source": [
    "### Soal 2.1 (4 poin)\n",
    "\n",
    "Lakukan vektorisasi terhadap dokumen yang diberikan, tapi kali ini gunakan modul [`TfidfVectorizer`](http://scikit-learn.org/stable/modules/generated/sklearn.feature_extraction.text.TfidfVectorizer.html). Penjelasan tentang metode **TF-IDF** bisa Anda lihat di [sini](http://tfidf.com/). Namun, untuk saat ini Anda tidak perlu tahu terlalu mendalam tentang metode ini. Yang perlu Anda ketahui adalah sebuah dokumen dapat direpresentasikan ke dalam bentuk vektor layaknya bag-of-words, tetapi kata yang sering muncul di berbagai dokumen, seperti halnya *stopwords* di soal 1, akan dibobotkan lebih kecil.\n",
    "\n",
    "Vektor yang dihasilkan dengan TF-IDF akan memiliki dimensi yang cukup besar. Untuk kemudahan visualisasi, gunakan modul `TruncatedSVD` untuk menghasilkan **dua komponen prinsipil**. Modul ini bekerja seperti halnya *Principal Component Analysis* (PCA) yang telah dibahas di pertemuan kelima.\n",
    "\n",
    "Gambarkan *scatter plot* dari dua dimensi yang dihasilkan. Hapus *stopwords* dari dokumen saat melakukan vektorisasi. Lalu, **warnai tiap titik** (dokumen) **berdasarkan topik** dari dokumen tersebut."
   ]
  },
  {
   "cell_type": "code",
   "execution_count": null,
   "metadata": {},
   "outputs": [],
   "source": []
  },
  {
   "cell_type": "markdown",
   "metadata": {},
   "source": [
    "### Soal 2.2 (3 poin)\n",
    "\n",
    "Cara untuk melakukan visualisasi dari dokumen dengan lebih baik adalah dengan menggunakan metode reduksi dimensi yang lebih canggih, misalnya dengan [t-SNE](https://lvdmaaten.github.io/tsne/). Lakukan seperti yang Anda lakukan pada soal 2.1, tetapi atur agar modul `TruncatedSVD` mereduksi vektornya hanya menjadi 100 dimensi. Dari vektor 100-dimensi tersebut, reduksi kembali dimensinya dengan menggunakan modul `TSNE` dari scikit-learn. Atur parameter `random_state=42` pada TSNE agar hasilnya dapat direproduksi.\n",
    "\n",
    "*Petunjuk: Agar tidak terlalu banyak menggunakan `.fit_transform()`, Anda mungkin bisa menggunakan fungsi [`make_pipeline()`](http://scikit-learn.org/stable/modules/generated/sklearn.pipeline.make_pipeline.html).*"
   ]
  },
  {
   "cell_type": "code",
   "execution_count": null,
   "metadata": {},
   "outputs": [],
   "source": [
    "from sklearn.manifold import TSNE"
   ]
  },
  {
   "cell_type": "markdown",
   "metadata": {},
   "source": [
    "### Soal 2.3 (4 poin)\n",
    "\n",
    "Dengan metode yang telah kita lakukan di soal 2.2, seharusnya setiap \"pulau\" yang Anda lihat dapat dibentuk sebagai *clusters*. Sebagai awalan, terapkan k-Means pada vektor yang telah Anda hasilkan di atas. Untuk menentukan jumlah *cluster* terbaik, coba nilai $k \\in [2,10]$, lalu gambarkan *scree plot*-nya. Berapa nilai $k$ yang terbaik?\n",
    "\n",
    "*Petunjuk: Perhatikan atribut `.inertia_` yang dihasilkan dari modul `KMeans`. Gunakan parameter `random_state=13` pada `KMeans`.*"
   ]
  },
  {
   "cell_type": "code",
   "execution_count": null,
   "metadata": {},
   "outputs": [],
   "source": []
  },
  {
   "cell_type": "markdown",
   "metadata": {},
   "source": [
    "### Soal 2.4 (4 poin)\n",
    "\n",
    "Karena kita sebetulnya sudah tahu bahwa dataset yang kita punya terdiri dari lima topik, untuk saat ini Anda dapat menggunakan $k = 5$. Jadi, lakukan clustering dengan k-Means dari vektor 2-dimensi yang dihasilkan dengan t-SNE tadi dengan $k = 5$. Visualisasikan hasilnya dan sertakan *centroids* dalam visualisasi yang Anda hasilkan.\n",
    "\n",
    "*Petunjuk: Anda dapat merujuk ke [sini](https://jakevdp.github.io/PythonDataScienceHandbook/05.11-k-means.html) untuk pembuatan visualisasinya.*"
   ]
  },
  {
   "cell_type": "code",
   "execution_count": null,
   "metadata": {},
   "outputs": [],
   "source": []
  },
  {
   "cell_type": "markdown",
   "metadata": {},
   "source": [
    "### Soal 2.5 (5 poin)\n",
    "\n",
    "Berikan kesimpulan Anda dari eksplorasi *clustering* dengan k-Means sejauh ini."
   ]
  },
  {
   "cell_type": "markdown",
   "metadata": {},
   "source": [
    "*Jawaban Anda di sini*"
   ]
  },
  {
   "cell_type": "markdown",
   "metadata": {},
   "source": [
    "## 3. Clustering dengan Gaussian Mixture Models (30 poin)"
   ]
  },
  {
   "cell_type": "markdown",
   "metadata": {},
   "source": [
    "### Soal 3.1 (5 poin)\n",
    "\n",
    "Apa yang terjadi jika menggunakan GMM untuk melakukan *clustering*? Sebelumnya, Anda harus mencari nilai jumlah *cluster* yang terbaik. Coba gambarkan plot nilai AIC dan BIC untuk $k \\in [2,10]$ dari algoritma GMM. Gunakan parameter `random_state=13`."
   ]
  },
  {
   "cell_type": "code",
   "execution_count": null,
   "metadata": {},
   "outputs": [],
   "source": []
  },
  {
   "cell_type": "markdown",
   "metadata": {},
   "source": [
    "### Soal 3.2 (3 poin)\n",
    "\n",
    "Seperti pada soal 2, lakukan *clustering* dengan menggunakan modul `GaussianMixture` dari vektor 2-dimensi yang dihasilkan. Visualisasikan hasil *clustering* yang didapatkan. Jangan lupa untuk menyertakan *centroids*-nya."
   ]
  },
  {
   "cell_type": "code",
   "execution_count": null,
   "metadata": {},
   "outputs": [],
   "source": []
  },
  {
   "cell_type": "markdown",
   "metadata": {},
   "source": [
    "### Soal 3.3.a (2 poin)\n",
    "\n",
    "Perhatikan daerah $-15 \\leq x_1 \\leq -10$ dan $-10 \\leq x_2 \\leq 0$. Daerah ini adalah saat banyak *cluster* mulai beririsan. Jadi, gunakan daerah ini sebagai [*mask*](https://jakevdp.github.io/PythonDataScienceHandbook/02.06-boolean-arrays-and-masks.html). Tampilkan topik/kategori dari artikel berita yang ada pada daerah tersebut. Tampilkan juga prediksi *cluster* dari GMM.\n",
    "\n",
    "*Perhatian: Ingat bahwa label cluster dari GMM tidak sama dengan kode dari topik/kategori artikel.*"
   ]
  },
  {
   "cell_type": "code",
   "execution_count": null,
   "metadata": {},
   "outputs": [],
   "source": []
  },
  {
   "cell_type": "markdown",
   "metadata": {},
   "source": [
    "### Soal 3.3.b (2 poin)\n",
    "\n",
    "Dengan menggunakan Gaussian Mixture Models, Anda dapat menghasilkan nilai probabilitas dari \"prediksi\" Anda. Gunakan metode `.predict_proba()` pada data dalam daerah yang ditentukan di soal 3.3.a. Tampilkan dalam bentuk tabel untuk memudahkan Anda mengevaluasi hasilnya. Anda juga dapat menggunakan [*style formatting*](https://pandas.pydata.org/pandas-docs/stable/generated/pandas.io.formats.style.Styler.format.html) dari pandas untuk memunculkan probabilitasnya dalam bentuk persentase."
   ]
  },
  {
   "cell_type": "code",
   "execution_count": null,
   "metadata": {},
   "outputs": [],
   "source": []
  },
  {
   "cell_type": "markdown",
   "metadata": {},
   "source": [
    "### Soal 3.3.c (2 poin)\n",
    "\n",
    "Munculkan isi masing-masing satu dokumen dari **topik yang diprediksi** oleh Gaussian Mixture Model yang Anda hasilkan. Apakah hasilnya benar-benar berbeda?"
   ]
  },
  {
   "cell_type": "code",
   "execution_count": null,
   "metadata": {},
   "outputs": [],
   "source": []
  },
  {
   "cell_type": "markdown",
   "metadata": {},
   "source": [
    "### Soal 3.4.a (2 poin)\n",
    "\n",
    "Ambil daerah yang ekstrem, misalnya $x_2 < -60$. Munculkan kembali prediksi *cluster*-nya dengan memunculkan probabilitasnya seperti pada soal 3.3.b. Apa yang dapat Anda perhatikan di sini?"
   ]
  },
  {
   "cell_type": "code",
   "execution_count": null,
   "metadata": {},
   "outputs": [],
   "source": []
  },
  {
   "cell_type": "markdown",
   "metadata": {},
   "source": [
    "### Soal 3.4.b (2 poin)\n",
    "\n",
    "Cetak isi salah satu dokumen dari soal 3.4.a."
   ]
  },
  {
   "cell_type": "code",
   "execution_count": null,
   "metadata": {},
   "outputs": [],
   "source": []
  },
  {
   "cell_type": "markdown",
   "metadata": {},
   "source": [
    "### Soal 3.5 (6 poin)\n",
    "\n",
    "Lakukan eksplorasi tambahan dari apa yang sudah Anda dapatkan sejauh ini. Beberapa hal yang bisa Anda coba:\n",
    "\n",
    "- Mencoba clustering tanpa menghilangkan *stopwords*\n",
    "- Mengganti random seed dan melihat perbedaan hasil clustering\n",
    "- Mencoba nilai $k$ yang berbeda\n",
    "- Mencoba mengeluarkan \"akurasi\" dari prediksi dengan GMM maupun k-Means\n",
    "- Mengeksplorasi pustaka [Altair](https://altair-viz.github.io/) untuk visualisasi yang lebih interaktif"
   ]
  },
  {
   "cell_type": "code",
   "execution_count": null,
   "metadata": {},
   "outputs": [],
   "source": []
  },
  {
   "cell_type": "markdown",
   "metadata": {},
   "source": [
    "### Soal 3.6 (6 poin)\n",
    "\n",
    "Berikan kesimpulan Anda dari hasil eksplorasi Anda dalam tugas ini. Ada baiknya Anda kaitkan juga dengan eksplorasi tambahan yang Anda lakukan untuk soal 3.5."
   ]
  },
  {
   "cell_type": "markdown",
   "metadata": {},
   "source": [
    "*Jawaban Anda di sini*"
   ]
  }
 ],
 "metadata": {
  "kernelspec": {
   "display_name": "Python 3",
   "language": "python",
   "name": "python3"
  },
  "language_info": {
   "codemirror_mode": {
    "name": "ipython",
    "version": 3
   },
   "file_extension": ".py",
   "mimetype": "text/x-python",
   "name": "python",
   "nbconvert_exporter": "python",
   "pygments_lexer": "ipython3",
   "version": "3.6.2"
  }
 },
 "nbformat": 4,
 "nbformat_minor": 2
}
